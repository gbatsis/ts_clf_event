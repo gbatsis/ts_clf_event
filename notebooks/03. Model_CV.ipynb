{
 "cells": [
  {
   "cell_type": "markdown",
   "metadata": {},
   "source": [
    "# Random Forest Classifier"
   ]
  },
  {
   "cell_type": "markdown",
   "metadata": {
    "vscode": {
     "languageId": "plaintext"
    }
   },
   "source": [
    "## Configuration"
   ]
  },
  {
   "cell_type": "code",
   "execution_count": 1,
   "metadata": {},
   "outputs": [],
   "source": [
    "from ts_clf_event.data_handler.utils import split_data_time_based\n",
    "from ts_clf_event.model.utils import display_cv_results\n",
    "from ts_clf_event.model.model import ModelPipeline\n",
    "from ts_clf_event.model.evaluator import Evaluator"
   ]
  },
  {
   "cell_type": "markdown",
   "metadata": {},
   "source": [
    "## Time-based split: Create a \"gold\" ground truth"
   ]
  },
  {
   "cell_type": "code",
   "execution_count": 2,
   "metadata": {},
   "outputs": [
    {
     "name": "stdout",
     "output_type": "stream",
     "text": [
      "Number of data points in train set: 69549\n",
      "Number of data points in test set: 17387\n",
      "Class distribution in train set: process\n",
      "0    66363\n",
      "1     3186\n",
      "Name: count, dtype: int64\n",
      "Class distribution in test set: process\n",
      "0    16334\n",
      "1     1053\n",
      "Name: count, dtype: int64\n",
      "Time in train set: 2020-06-01 00:00:00 to 2020-06-25 12:03:55\n",
      "Time in test set: 2020-06-25 12:04:56 to 2020-07-01 23:59:37\n"
     ]
    }
   ],
   "source": [
    "data_path = \"/Users/georgebatsis/Documents/Projects/ts_clf_event/data/test_dataframe.csv\"\n",
    "test_size_percent = 0.2\n",
    "label_col = \"process\"\n",
    "\n",
    "dev_df, test_df = split_data_time_based(data_path, test_size_percent, label_col)"
   ]
  },
  {
   "cell_type": "markdown",
   "metadata": {},
   "source": [
    "## Model pipeline"
   ]
  },
  {
   "cell_type": "code",
   "execution_count": 3,
   "metadata": {},
   "outputs": [],
   "source": [
    "windows = \"auto\"\n",
    "features_to_roll = [\"value\", \"level\", \"frequency\", \"speed\"]\n",
    "diff_lags = [1, 2]\n",
    "\n",
    "x_train = dev_df.drop(\"process\", axis=1)\n",
    "y_train = dev_df[\"process\"]\n",
    "\n",
    "model = ModelPipeline(\n",
    "    windows=windows,\n",
    "    features_to_roll=features_to_roll,\n",
    "    diff_lags=diff_lags,\n",
    "    features_to_diff=features_to_roll,\n",
    "    groupby_col=\"provider\",\n",
    ")"
   ]
  },
  {
   "cell_type": "markdown",
   "metadata": {},
   "source": [
    "### K-Fold cross validation"
   ]
  },
  {
   "cell_type": "code",
   "execution_count": 4,
   "metadata": {},
   "outputs": [
    {
     "name": "stdout",
     "output_type": "stream",
     "text": [
      "Train set: process\n",
      "0    10975\n",
      "1      619\n",
      "Name: count, dtype: int64\n",
      "Test set: process\n",
      "0    10675\n",
      "1      916\n",
      "Name: count, dtype: int64\n",
      "Train set: process\n",
      "0    21650\n",
      "1     1535\n",
      "Name: count, dtype: int64\n",
      "Test set: process\n",
      "0    11243\n",
      "1      348\n",
      "Name: count, dtype: int64\n",
      "Train set: process\n",
      "0    32893\n",
      "1     1883\n",
      "Name: count, dtype: int64\n",
      "Test set: process\n",
      "0    10995\n",
      "1      596\n",
      "Name: count, dtype: int64\n",
      "Train set: process\n",
      "0    43888\n",
      "1     2479\n",
      "Name: count, dtype: int64\n",
      "Test set: process\n",
      "0    11314\n",
      "1      277\n",
      "Name: count, dtype: int64\n",
      "Train set: process\n",
      "0    55202\n",
      "1     2756\n",
      "Name: count, dtype: int64\n",
      "Test set: process\n",
      "0    11161\n",
      "1      430\n",
      "Name: count, dtype: int64\n"
     ]
    },
    {
     "name": "stderr",
     "output_type": "stream",
     "text": [
      "[Parallel(n_jobs=-1)]: Using backend LokyBackend with 10 concurrent workers.\n"
     ]
    },
    {
     "name": "stdout",
     "output_type": "stream",
     "text": [
      "Windows for 1: [60, 90, 120]\n",
      "Windows for 2: [60, 90, 120]\n",
      "Windows for 1: [60, 90, 120]\n",
      "Windows for 2: [60, 90, 120]\n",
      "Windows for 1: [60, 90, 120]\n",
      "Windows for 2: [60, 90, 120]\n",
      "Windows for 1: [60, 90, 120]\n",
      "Windows for 2: [60, 90, 120]\n",
      "Windows for 1: [60, 90, 120]\n",
      "Windows for 2: [60, 90, 120]\n",
      "[CV] END  f1: (test=0.980) f1_pos: (test=0.868) precision: (test=0.980) precision_pos: (test=0.946) recall: (test=0.981) recall_pos: (test=0.802) total time=   0.7s\n",
      "[CV] END  f1: (test=0.999) f1_pos: (test=0.981) precision: (test=0.999) precision_pos: (test=1.000) recall: (test=0.999) recall_pos: (test=0.963) total time=   1.2s\n"
     ]
    },
    {
     "name": "stderr",
     "output_type": "stream",
     "text": [
      "[Parallel(n_jobs=-1)]: Done   2 out of   5 | elapsed:    2.6s remaining:    3.9s\n"
     ]
    },
    {
     "name": "stdout",
     "output_type": "stream",
     "text": [
      "[CV] END  f1: (test=0.987) f1_pos: (test=0.865) precision: (test=0.987) precision_pos: (test=0.963) recall: (test=0.987) recall_pos: (test=0.785) total time=   1.6s\n",
      "[CV] END  f1: (test=0.997) f1_pos: (test=0.928) precision: (test=0.997) precision_pos: (test=1.000) recall: (test=0.997) recall_pos: (test=0.866) total time=   2.1s\n",
      "[CV] END  f1: (test=0.989) f1_pos: (test=0.851) precision: (test=0.990) precision_pos: (test=0.949) recall: (test=0.990) recall_pos: (test=0.772) total time=   2.6s\n"
     ]
    },
    {
     "name": "stderr",
     "output_type": "stream",
     "text": [
      "[Parallel(n_jobs=-1)]: Done   5 out of   5 | elapsed:    4.0s finished\n"
     ]
    }
   ],
   "source": [
    "cv_results = model.cross_validate(x_train, y_train)"
   ]
  },
  {
   "cell_type": "code",
   "execution_count": 5,
   "metadata": {},
   "outputs": [
    {
     "name": "stdout",
     "output_type": "stream",
     "text": [
      "Metric          Mean       Std       \n",
      "-----------------------------------\n",
      "precision       0.9906     0.0067    \n",
      "recall          0.9908     0.0065    \n",
      "f1              0.9904     0.0068    \n",
      "precision_pos   0.9715     0.0240    \n",
      "recall_pos      0.8378     0.0703    \n",
      "f1_pos          0.8988     0.0489    \n"
     ]
    }
   ],
   "source": [
    "display_cv_results(cv_results)"
   ]
  },
  {
   "cell_type": "code",
   "execution_count": 6,
   "metadata": {},
   "outputs": [],
   "source": [
    "x_test = test_df.drop(\"process\", axis=1)\n",
    "y_test = test_df[\"process\"]"
   ]
  },
  {
   "cell_type": "markdown",
   "metadata": {},
   "source": [
    "### Final model training (Use all set)"
   ]
  },
  {
   "cell_type": "code",
   "execution_count": 7,
   "metadata": {},
   "outputs": [
    {
     "name": "stdout",
     "output_type": "stream",
     "text": [
      "Windows for 1: [60, 90, 120]\n",
      "Windows for 2: [60, 90, 120]\n"
     ]
    }
   ],
   "source": [
    "model.train(x_train, y_train)\n",
    "\n",
    "# Save the model\n",
    "model.save_model(\"RF_model\")"
   ]
  },
  {
   "cell_type": "code",
   "execution_count": 8,
   "metadata": {},
   "outputs": [],
   "source": [
    "model.load_model(\"RF_model\")\n",
    "y_pred_prob = model.predict_proba(x_test)"
   ]
  },
  {
   "cell_type": "code",
   "execution_count": 9,
   "metadata": {},
   "outputs": [
    {
     "name": "stdout",
     "output_type": "stream",
     "text": [
      "Confusion Matrix:\n",
      "                  Predicted Negative  Predicted Positive\n",
      "Actual Negative               16268                  66\n",
      "Actual Positive                 152                 901\n",
      "Macro-averaged Metrics:\n",
      "  Precision (Macro):   0.9612453347810259\n",
      "  Recall (Macro):   0.9258049354576027\n",
      "  F1-Score (Macro):   0.9427117661390613\n",
      " Positive Class Metrics:\n",
      "  Precision ( Positive):   0.9317476732161324\n",
      "  Recall ( Positive):   0.855650522317189\n",
      "  F1-Score ( Positive):   0.8920792079207921\n",
      "Imbalance-Aware Metrics:\n",
      "  Matthews Correlation Coefficient (MCC):   0.8863420107533099\n",
      "  Balanced Accuracy:   0.9258049354576027\n",
      "  Average Precision (AP):   0.9728225005649416\n",
      "  Area Under ROC Curve (AUROC):   0.9980681932745114\n",
      "  Recall@Precision=0.5:   1.0\n"
     ]
    }
   ],
   "source": [
    "test_res = Evaluator().report_metrics(y_test, y_pred_prob[:, 1], threshold=0.5)"
   ]
  }
 ],
 "metadata": {
  "kernelspec": {
   "display_name": ".venv",
   "language": "python",
   "name": "python3"
  },
  "language_info": {
   "codemirror_mode": {
    "name": "ipython",
    "version": 3
   },
   "file_extension": ".py",
   "mimetype": "text/x-python",
   "name": "python",
   "nbconvert_exporter": "python",
   "pygments_lexer": "ipython3",
   "version": "3.12.6"
  }
 },
 "nbformat": 4,
 "nbformat_minor": 2
}
