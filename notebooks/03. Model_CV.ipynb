{
 "cells": [
  {
   "cell_type": "markdown",
   "metadata": {},
   "source": [
    "# Random Forest Classifier"
   ]
  },
  {
   "cell_type": "markdown",
   "metadata": {
    "vscode": {
     "languageId": "plaintext"
    }
   },
   "source": [
    "## Configuration"
   ]
  },
  {
   "cell_type": "code",
   "execution_count": 20,
   "metadata": {},
   "outputs": [],
   "source": [
    "from ts_clf_event.data_handler.utils import split_data_time_based\n",
    "from ts_clf_event.model.utils import display_cv_results\n",
    "from ts_clf_event.model.model import ModelPipeline\n",
    "from ts_clf_event.model.evaluator import Evaluator"
   ]
  },
  {
   "cell_type": "markdown",
   "metadata": {},
   "source": [
    "## Time-based split: Create a \"gold\" ground truth"
   ]
  },
  {
   "cell_type": "code",
   "execution_count": 21,
   "metadata": {},
   "outputs": [
    {
     "name": "stdout",
     "output_type": "stream",
     "text": [
      "Number of data points in train set: 69549\n",
      "Number of data points in test set: 17387\n",
      "Class distribution in train set: process\n",
      "0    66363\n",
      "1     3186\n",
      "Name: count, dtype: int64\n",
      "Class distribution in test set: process\n",
      "0    16334\n",
      "1     1053\n",
      "Name: count, dtype: int64\n",
      "Time in train set: 2020-06-01 00:00:00 to 2020-06-25 12:03:55\n",
      "Time in test set: 2020-06-25 12:04:56 to 2020-07-01 23:59:37\n"
     ]
    }
   ],
   "source": [
    "data_path = \"/Users/georgebatsis/Documents/Projects/ts_clf_event/data/test_dataframe.csv\"\n",
    "test_size_percent = 0.2\n",
    "label_col = \"process\"\n",
    "\n",
    "dev_df, test_df = split_data_time_based(data_path, test_size_percent, label_col)"
   ]
  },
  {
   "cell_type": "markdown",
   "metadata": {},
   "source": [
    "## Model pipeline"
   ]
  },
  {
   "cell_type": "code",
   "execution_count": 22,
   "metadata": {},
   "outputs": [],
   "source": [
    "windows = [30, 40, 60]\n",
    "features_to_roll = [\"value\", \"level\", \"frequency\", \"speed\"]\n",
    "diff_lags = [1, 2]\n",
    "\n",
    "x_train = dev_df.drop(\"process\", axis=1)\n",
    "y_train = dev_df[\"process\"]\n",
    "\n",
    "model = ModelPipeline(\n",
    "    windows=windows,\n",
    "    features_to_roll=features_to_roll,\n",
    "    diff_lags=diff_lags,\n",
    "    features_to_diff=features_to_roll,\n",
    "    groupby_col=\"provider\",\n",
    ")"
   ]
  },
  {
   "cell_type": "markdown",
   "metadata": {},
   "source": [
    "### K-Fold cross validation"
   ]
  },
  {
   "cell_type": "code",
   "execution_count": 23,
   "metadata": {},
   "outputs": [
    {
     "name": "stdout",
     "output_type": "stream",
     "text": [
      "Train set: process\n",
      "0    10975\n",
      "1      619\n",
      "Name: count, dtype: int64\n",
      "Test set: process\n",
      "0    10675\n",
      "1      916\n",
      "Name: count, dtype: int64\n",
      "Train set: process\n",
      "0    21650\n",
      "1     1535\n",
      "Name: count, dtype: int64\n",
      "Test set: process\n",
      "0    11243\n",
      "1      348\n",
      "Name: count, dtype: int64\n",
      "Train set: process\n",
      "0    32893\n",
      "1     1883\n",
      "Name: count, dtype: int64\n",
      "Test set: process\n",
      "0    10995\n",
      "1      596\n",
      "Name: count, dtype: int64\n",
      "Train set: process\n",
      "0    43888\n",
      "1     2479\n",
      "Name: count, dtype: int64\n",
      "Test set: process\n",
      "0    11314\n",
      "1      277\n",
      "Name: count, dtype: int64\n",
      "Train set: process\n",
      "0    55202\n",
      "1     2756\n",
      "Name: count, dtype: int64\n",
      "Test set: process\n",
      "0    11161\n",
      "1      430\n",
      "Name: count, dtype: int64\n"
     ]
    },
    {
     "name": "stderr",
     "output_type": "stream",
     "text": [
      "[Parallel(n_jobs=-1)]: Using backend LokyBackend with 10 concurrent workers.\n"
     ]
    },
    {
     "name": "stdout",
     "output_type": "stream",
     "text": [
      "[CV] END  f1: (test=0.976) f1_pos: (test=0.837) precision: (test=0.977) precision_pos: (test=0.964) recall: (test=0.977) recall_pos: (test=0.739) total time=   0.6s\n",
      "[CV] END  f1: (test=0.997) f1_pos: (test=0.958) precision: (test=0.997) precision_pos: (test=0.939) recall: (test=0.997) recall_pos: (test=0.977) total time=   1.1s\n"
     ]
    },
    {
     "name": "stderr",
     "output_type": "stream",
     "text": [
      "[Parallel(n_jobs=-1)]: Done   2 out of   5 | elapsed:    1.9s remaining:    2.8s\n"
     ]
    },
    {
     "name": "stdout",
     "output_type": "stream",
     "text": [
      "[CV] END  f1: (test=0.991) f1_pos: (test=0.913) precision: (test=0.992) precision_pos: (test=0.994) recall: (test=0.992) recall_pos: (test=0.844) total time=   1.5s\n",
      "[CV] END  f1: (test=0.994) f1_pos: (test=0.912) precision: (test=0.994) precision_pos: (test=0.943) recall: (test=0.994) recall_pos: (test=0.884) total time=   2.4s\n",
      "[CV] END  f1: (test=1.000) f1_pos: (test=0.998) precision: (test=1.000) precision_pos: (test=1.000) recall: (test=1.000) recall_pos: (test=0.996) total time=   2.0s\n"
     ]
    },
    {
     "name": "stderr",
     "output_type": "stream",
     "text": [
      "[Parallel(n_jobs=-1)]: Done   5 out of   5 | elapsed:    2.8s finished\n"
     ]
    }
   ],
   "source": [
    "cv_results = model.cross_validate(x_train, y_train)"
   ]
  },
  {
   "cell_type": "code",
   "execution_count": 24,
   "metadata": {},
   "outputs": [
    {
     "name": "stdout",
     "output_type": "stream",
     "text": [
      "Metric          Mean       Std       \n",
      "-----------------------------------\n",
      "precision       0.9919     0.0080    \n",
      "recall          0.9920     0.0079    \n",
      "f1              0.9916     0.0084    \n",
      "precision_pos   0.9681     0.0252    \n",
      "recall_pos      0.8880     0.0936    \n",
      "f1_pos          0.9236     0.0538    \n"
     ]
    }
   ],
   "source": [
    "display_cv_results(cv_results)"
   ]
  },
  {
   "cell_type": "code",
   "execution_count": 25,
   "metadata": {},
   "outputs": [],
   "source": [
    "x_test = test_df.drop(\"process\", axis=1)\n",
    "y_test = test_df[\"process\"]"
   ]
  },
  {
   "cell_type": "markdown",
   "metadata": {},
   "source": [
    "### Final model training (Use all set)"
   ]
  },
  {
   "cell_type": "code",
   "execution_count": 26,
   "metadata": {},
   "outputs": [],
   "source": [
    "model.train(x_train, y_train)\n",
    "\n",
    "# Save the model\n",
    "model.save_model(\"RF_model\")"
   ]
  },
  {
   "cell_type": "code",
   "execution_count": 27,
   "metadata": {},
   "outputs": [],
   "source": [
    "model.load_model(\"RF_model\")\n",
    "y_pred_prob = model.predict_proba(x_test)"
   ]
  },
  {
   "cell_type": "code",
   "execution_count": 28,
   "metadata": {},
   "outputs": [
    {
     "name": "stdout",
     "output_type": "stream",
     "text": [
      "Confusion Matrix:\n",
      "                  Predicted Negative  Predicted Positive\n",
      "Actual Negative               16272                  62\n",
      "Actual Positive                 129                 924\n",
      "Macro-averaged Metrics:\n",
      "  Precision (Macro):   0.9646271506969162\n",
      "  Recall (Macro):   0.9368485570273253\n",
      "  F1-Score (Macro):   0.9502459486178073\n",
      " Positive Class Metrics:\n",
      "  Precision ( Positive):   0.9371196754563894\n",
      "  Recall ( Positive):   0.8774928774928775\n",
      "  F1-Score ( Positive):   0.9063266307013241\n",
      "Imbalance-Aware Metrics:\n",
      "  Matthews Correlation Coefficient (MCC):   0.9010476132539621\n",
      "  Balanced Accuracy:   0.9368485570273253\n",
      "  Average Precision (AP):   0.9829368893435938\n",
      "  Area Under ROC Curve (AUROC):   0.9988904749628802\n",
      "  Recall@Precision=0.5:   1.0\n"
     ]
    }
   ],
   "source": [
    "test_res = Evaluator().report_metrics(y_test, y_pred_prob[:, 1], threshold=0.5)"
   ]
  }
 ],
 "metadata": {
  "kernelspec": {
   "display_name": ".venv",
   "language": "python",
   "name": "python3"
  },
  "language_info": {
   "codemirror_mode": {
    "name": "ipython",
    "version": 3
   },
   "file_extension": ".py",
   "mimetype": "text/x-python",
   "name": "python",
   "nbconvert_exporter": "python",
   "pygments_lexer": "ipython3",
   "version": "3.12.6"
  }
 },
 "nbformat": 4,
 "nbformat_minor": 2
}
